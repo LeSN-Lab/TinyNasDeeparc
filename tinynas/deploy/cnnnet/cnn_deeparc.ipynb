{
 "cells": [
  {
   "cell_type": "code",
   "execution_count": 2,
   "id": "02a55ed2-4fbc-4545-af60-d1ab94a98fa5",
   "metadata": {},
   "outputs": [
    {
     "name": "stdout",
     "output_type": "stream",
     "text": [
      "Python 3.7.12\n"
     ]
    }
   ],
   "source": [
    "!python --version"
   ]
  },
  {
   "cell_type": "code",
   "execution_count": 7,
   "id": "56a67a35-4321-4774-9412-947c04b41b73",
   "metadata": {},
   "outputs": [],
   "source": [
    "from tqdm import tqdm\n",
    "import ast\n",
    "import os\n",
    "import argparse\n",
    "import torch\n",
    "from cnnnet import CnnNet\n",
    "import torchvision.datasets as datasets\n",
    "from torch.utils.data import DataLoader\n",
    "import torchvision.transforms as transforms"
   ]
  },
  {
   "cell_type": "code",
   "execution_count": 10,
   "id": "bf6ee7a6-583e-4543-b694-189f6e2bab4f",
   "metadata": {},
   "outputs": [],
   "source": [
    "# model_load용\n",
    "def parse_args():\n",
    "    parser = argparse.ArgumentParser()\n",
    "    parser.add_argument('--structure_txt', type=str)\n",
    "    parser.add_argument('--pretrained', type=str, default=None)\n",
    "    args = parser.parse_args()\n",
    "    return args\n",
    "\n",
    "def get_model(filename,\n",
    "                pretrained=True,\n",
    "                network_id=0,\n",
    "                classification=True #False for detetion\n",
    "                 ):\n",
    "    # load best structures\n",
    "    with open(filename, 'r') as fin:\n",
    "        content = fin.read()\n",
    "        output_structures = ast.literal_eval(content)\n",
    "\n",
    "    network_arch = output_structures['space_arch']\n",
    "    best_structures = output_structures['best_structures']\n",
    "\n",
    "    # If task type is classification, param num_classes is required\n",
    "    out_indices = (1, 2, 3, 4) if not classification else (4, )\n",
    "    model = CnnNet(\n",
    "            structure_info=best_structures[network_id],\n",
    "            out_indices=out_indices,\n",
    "            num_classes=1000,\n",
    "            classification=classification)\n",
    "    model.init_weights(pretrained)\n",
    "\n",
    "    return model, network_arch\n",
    "\n",
    "def load_model(model,\n",
    "               load_parameters_from,\n",
    "               strict_load=False,\n",
    "               map_location=torch.device('cpu'),\n",
    "               **kwargs):\n",
    "    if not os.path.isfile(load_parameters_from):\n",
    "        raise ValueError('bad checkpoint to load %s' % (load_parameters_from))\n",
    "    else:\n",
    "        model.logger.debug('Zennas: loading params from '\n",
    "                           + load_parameters_from)\n",
    "    checkpoint = torch.load(load_parameters_from, map_location=map_location)\n",
    "    if 'state_dict' in checkpoint:\n",
    "        state_dict = checkpoint['state_dict']\n",
    "    else:\n",
    "        state_dict = checkpoint\n",
    "\n",
    "    # print(\"\\n#################################\")\n",
    "    # for name, paramets in model.named_parameters():\n",
    "    # print(name, paramets.size(), paramets.flatten().cpu().detach().numpy()[0:5])\n",
    "    #     if \"conv_offset.weight\" in name:\n",
    "    #         state_dict[name] = state_dict[name.replace(\".conv_offset\", \"\")]\n",
    "    model.load_state_dict(state_dict, strict=strict_load)\n",
    "\n",
    "    # print(\"\\n#################################\")\n",
    "    # for name, paramets in model.named_parameters():\n",
    "    #     print(name, paramets.size(), paramets.flatten().cpu().detach().numpy()[0:5])\n",
    "\n",
    "    return model"
   ]
  },
  {
   "cell_type": "code",
   "execution_count": 11,
   "id": "3a34c11c-0db2-4d6c-b249-364764858b3f",
   "metadata": {},
   "outputs": [],
   "source": [
    "def generate_gram_matrix(self, x):\n",
    "    # x를 2D 텐서로 reshape\n",
    "    x = x.view(x.size(0), -1)\n",
    "    \n",
    "    # Gram 행렬 계산\n",
    "    gram = torch.matmul(x, x.t())\n",
    "    \n",
    "    # Gram 행렬의 대각선을 0으로 설정\n",
    "    n = gram.size(0)\n",
    "    gram.fill_diagonal_(0)\n",
    "    \n",
    "    # 데이터 타입 변환\n",
    "    gram = gram.to(self.hsic_accumulator.dtype)\n",
    "    \n",
    "    # 평균 계산\n",
    "    means = gram.sum(dim=0) / (n - 2)\n",
    "    means -= means.sum() / (2 * (n - 1))\n",
    "    \n",
    "    # 평균을 뺀 Gram 행렬 계산\n",
    "    gram -= means.unsqueeze(1)\n",
    "    gram -= means.unsqueeze(0)\n",
    "    \n",
    "    # 대각선을 다시 0으로 설정\n",
    "    gram.fill_diagonal_(0)\n",
    "    \n",
    "    # 1D 텐서로 변환\n",
    "    gram = gram.view(-1)\n",
    "    \n",
    "    return gram"
   ]
  },
  {
   "cell_type": "code",
   "execution_count": 12,
   "id": "290bfb87-acdf-4acf-bf6e-43a23da203b9",
   "metadata": {},
   "outputs": [],
   "source": [
    "def update_state(self, activations):\n",
    "    layer_grams = [self._generate_gram_matrix(x) for x in activations]\n",
    "    layer_grams = torch.stack(layer_grams, 0)\n",
    "    print(self.hsic_accumulator.shape)\n",
    "    self.hsic_accumulator += torch.matmul(layer_grams, layer_grams.t())"
   ]
  },
  {
   "cell_type": "code",
   "execution_count": 13,
   "id": "74d9e0ce-2f15-4c5c-8ec7-947782ea2fa1",
   "metadata": {},
   "outputs": [
    {
     "name": "stderr",
     "output_type": "stream",
     "text": [
      "usage: ipykernel_launcher.py [-h] [--structure_txt STRUCTURE_TXT]\n",
      "                             [--pretrained PRETRAINED]\n",
      "ipykernel_launcher.py: error: unrecognized arguments: -f /home/deeparc/.local/share/jupyter/runtime/kernel-3adaa313-e47a-4bff-99c0-46e358246f41.json\n"
     ]
    },
    {
     "ename": "SystemExit",
     "evalue": "2",
     "output_type": "error",
     "traceback": [
      "An exception has occurred, use %tb to see the full traceback.\n",
      "\u001b[0;31mSystemExit\u001b[0m\u001b[0;31m:\u001b[0m 2\n"
     ]
    },
    {
     "name": "stderr",
     "output_type": "stream",
     "text": [
      "/home/deeparc/.local/lib/python3.10/site-packages/IPython/core/interactiveshell.py:3585: UserWarning: To exit: use 'exit', 'quit', or Ctrl-D.\n",
      "  warn(\"To exit: use 'exit', 'quit', or Ctrl-D.\", stacklevel=1)\n"
     ]
    }
   ],
   "source": [
    "if __name__ == '__main__':\n",
    "    transform_val = transforms.Compose([\n",
    "        transforms.Resize(256),\n",
    "        transforms.CenterCrop(224),\n",
    "        transforms.ToTensor(),\n",
    "        transforms.Normalize(mean=[0.485, 0.456, 0.406], std=[0.229, 0.224, 0.225]),\n",
    "    ])\n",
    "    \n",
    "    # make input\n",
    "    #args = parse_args()\n",
    "    args = \"--structure_txt=best_structure.txt\"\n",
    "    # model_get\n",
    "    model, network_arch = get_model(args.structure_txt, \n",
    "                                            args.pretrained)\n",
    "\n",
    "    # state load\n",
    "    model.load_state_dict(torch.load('./tinynas/deploy/cnnnet/tinynascnnex1_statedict_1.pth'))\n",
    "\n",
    "    # GPU 사용 설정\n",
    "    device = torch.device('cuda' if torch.cuda.is_available() else 'cpu')\n",
    "    model.to(device)\n",
    "\n",
    "    "
   ]
  },
  {
   "cell_type": "code",
   "execution_count": null,
   "id": "42ae9d85-f0b0-4f2d-987a-c84be9111944",
   "metadata": {},
   "outputs": [],
   "source": []
  }
 ],
 "metadata": {
  "kernelspec": {
   "display_name": "Python 3 (ipykernel)",
   "language": "python",
   "name": "python3"
  },
  "language_info": {
   "codemirror_mode": {
    "name": "ipython",
    "version": 3
   },
   "file_extension": ".py",
   "mimetype": "text/x-python",
   "name": "python",
   "nbconvert_exporter": "python",
   "pygments_lexer": "ipython3",
   "version": "3.10.12"
  }
 },
 "nbformat": 4,
 "nbformat_minor": 5
}
